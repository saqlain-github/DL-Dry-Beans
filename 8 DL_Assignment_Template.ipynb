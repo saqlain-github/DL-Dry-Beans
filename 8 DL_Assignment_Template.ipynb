{
 "cells": [
  {
   "cell_type": "markdown",
   "id": "9bda93ba",
   "metadata": {
    "id": "9bda93ba"
   },
   "source": [
    "## Group No\n",
    "\n",
    "## Group Member Names:\n",
    "1. \n",
    "2.\n",
    "3."
   ]
  },
  {
   "cell_type": "markdown",
   "id": "f5d80c60",
   "metadata": {
    "id": "f5d80c60"
   },
   "source": [
    "# 1. Problem Statement\n",
    " \n",
    "Students are expected to identify a classification / regression problem of your choice. You have to detail the problem under this heading which basically addresses the following questions.\n",
    " \n",
    "   1. What is the problem that you are trying to solve?\n",
    "   2. What kind of prediction (classification / regression) task are you performing?\n",
    "\n",
    "ENSURE THAT YOU ARE USING NUMERICAL / CATEGORICAL DATA only.\n",
    "\n",
    "DO NOT use images or textual data.\n",
    "\n",
    "Score: 1 Mark in total (0.5 mark each)"
   ]
  },
  {
   "cell_type": "raw",
   "id": "3298e121",
   "metadata": {
    "id": "3298e121"
   },
   "source": [
    "--------------Type the answers below this line-------------- "
   ]
  },
  {
   "cell_type": "markdown",
   "id": "3cc8e0cb",
   "metadata": {
    "id": "3cc8e0cb"
   },
   "source": [
    "# 2. Data Acquisition\n",
    " \n",
    "For the problem identified by you, students have to find the data source themselves from any data source.\n",
    "\n",
    "## 2.1 Download the data directly\n",
    "\n"
   ]
  },
  {
   "cell_type": "code",
   "execution_count": null,
   "id": "4b51d895",
   "metadata": {
    "id": "4b51d895"
   },
   "outputs": [],
   "source": [
    "##---------Type the code below this line------------------##"
   ]
  },
  {
   "cell_type": "markdown",
   "id": "49530d0c",
   "metadata": {
    "id": "49530d0c"
   },
   "source": [
    "## 2.2 Code for converting the above downloaded data into a form suitable for DL "
   ]
  },
  {
   "cell_type": "code",
   "execution_count": null,
   "id": "c1f4c171",
   "metadata": {
    "id": "c1f4c171"
   },
   "outputs": [],
   "source": [
    "##---------Type the code below this line------------------##"
   ]
  },
  {
   "cell_type": "markdown",
   "id": "812edb18",
   "metadata": {
    "id": "812edb18"
   },
   "source": [
    "## 2.3 Write your observations from the above. \n",
    "\n",
    "1. Size of the dataset\n",
    "2. What type of data attributes are there?\n",
    "\n",
    "Score: 2 Mark"
   ]
  },
  {
   "cell_type": "raw",
   "id": "60d80d2f",
   "metadata": {
    "id": "60d80d2f"
   },
   "source": [
    "--------------Type the answers below this line--------------"
   ]
  },
  {
   "cell_type": "markdown",
   "id": "102e0e36",
   "metadata": {
    "id": "102e0e36"
   },
   "source": [
    "# 3. Data Preparation\n",
    "\n",
    "Perform the data prepracessing that is required for the data that you have downloaded. \n"
   ]
  },
  {
   "cell_type": "markdown",
   "id": "06fdebf8",
   "metadata": {
    "id": "06fdebf8"
   },
   "source": [
    "## 3.1 Apply techiniques\n",
    "* to remove duplicate data\n",
    "* to impute or remove missing data\n",
    "* to remove data inconsistencies\n",
    "\n",
    "IF ANY"
   ]
  },
  {
   "cell_type": "code",
   "execution_count": null,
   "id": "dd3118eb",
   "metadata": {
    "id": "dd3118eb"
   },
   "outputs": [],
   "source": [
    "##---------Type the code below this line------------------##"
   ]
  },
  {
   "cell_type": "code",
   "execution_count": null,
   "id": "a3b2cdee",
   "metadata": {
    "id": "a3b2cdee"
   },
   "outputs": [],
   "source": [
    "##---------Type the code below this line------------------##"
   ]
  },
  {
   "cell_type": "markdown",
   "id": "cb3ca738",
   "metadata": {},
   "source": [
    "## 3.2 Encode categorical data"
   ]
  },
  {
   "cell_type": "code",
   "execution_count": null,
   "id": "08fc7ffc",
   "metadata": {},
   "outputs": [],
   "source": [
    "##---------Type the code below this line------------------##"
   ]
  },
  {
   "cell_type": "markdown",
   "id": "d3897985",
   "metadata": {},
   "source": [
    "## 3.3 Normalize the data"
   ]
  },
  {
   "cell_type": "code",
   "execution_count": null,
   "id": "c7856104",
   "metadata": {},
   "outputs": [],
   "source": [
    "##---------Type the code below this line------------------##"
   ]
  },
  {
   "cell_type": "markdown",
   "id": "90bc0a45",
   "metadata": {},
   "source": [
    "## 3.4 Feature Engineering \n",
    "\n",
    "if any"
   ]
  },
  {
   "cell_type": "code",
   "execution_count": null,
   "id": "f9412d5c",
   "metadata": {},
   "outputs": [],
   "source": [
    "##---------Type the code below this line------------------##"
   ]
  },
  {
   "cell_type": "markdown",
   "id": "793cd04b",
   "metadata": {
    "id": "793cd04b"
   },
   "source": [
    "## 3.5 Identify the target variables.\n",
    "\n",
    "* Separate the data front the target such that the dataset is in the form of (X,y) or (Features, Label)\n",
    "\n",
    "* Discretize / Encode the target variable or perform one-hot encoding on the target or any other as and if required.\n",
    "\n"
   ]
  },
  {
   "cell_type": "code",
   "execution_count": null,
   "id": "c9089b57",
   "metadata": {
    "id": "c9089b57"
   },
   "outputs": [],
   "source": [
    "##---------Type the code below this line------------------##"
   ]
  },
  {
   "cell_type": "markdown",
   "id": "4cd14601",
   "metadata": {},
   "source": [
    "## 3.6 Split the data into training set and testing set"
   ]
  },
  {
   "cell_type": "code",
   "execution_count": null,
   "id": "1a74cd9c",
   "metadata": {},
   "outputs": [],
   "source": [
    "##---------Type the code below this line------------------##"
   ]
  },
  {
   "cell_type": "markdown",
   "id": "e3cec4fc",
   "metadata": {
    "id": "e3cec4fc"
   },
   "source": [
    "## 3.7 Report\n",
    "\n",
    "Mention the method adopted  and justify why the method was used\n",
    "* to remove duplicate data, if present \n",
    "* to impute or remove missing data, if present \n",
    "* to remove data inconsistencies, if present \n",
    "* to encode categorical data \n",
    "* the normalization technique used\n",
    "\n",
    "If the any of the above are not present, then also add in the report below.\n",
    "\n",
    "Report the size of the training dataset and testing dataset\n",
    "\n",
    "Score: 3 Marks"
   ]
  },
  {
   "cell_type": "markdown",
   "id": "187aeb95",
   "metadata": {},
   "source": [
    "##---------Type the answer below this line------------------##"
   ]
  },
  {
   "cell_type": "markdown",
   "id": "3ae0b5d2",
   "metadata": {
    "id": "3ae0b5d2"
   },
   "source": [
    "# 4. Deep Neural Network Architecture\n",
    "\n"
   ]
  },
  {
   "cell_type": "markdown",
   "id": "186bf4d7",
   "metadata": {
    "id": "186bf4d7"
   },
   "source": [
    "## 4.1 Design the architecture that you will be using to solve the prediction problem identified.\n",
    "\n",
    "* Add dense layers, specifying the number of units in each layer and the activation function used in the layer."
   ]
  },
  {
   "cell_type": "code",
   "execution_count": null,
   "id": "868d7b27",
   "metadata": {
    "id": "868d7b27"
   },
   "outputs": [],
   "source": [
    "##---------Type the code below this line------------------##"
   ]
  },
  {
   "attachments": {},
   "cell_type": "markdown",
   "id": "575f9e37",
   "metadata": {
    "id": "575f9e37"
   },
   "source": [
    "## 4.2 Report\n",
    "\n",
    "Report the following and provide justification for the same.\n",
    "\n",
    "* Number of layers\n",
    "* Number of units in each layer\n",
    "* Activation function used in each hidden layer\n",
    "* Activation function used in the output layer\n",
    "* Total number of trainable parameters \n",
    "\n",
    "Score: 4 Marks"
   ]
  },
  {
   "cell_type": "markdown",
   "id": "a95a15d8",
   "metadata": {
    "id": "4d614311"
   },
   "source": [
    "##---------Type the answer below this line------------------##"
   ]
  },
  {
   "cell_type": "markdown",
   "id": "bdbc82a1",
   "metadata": {
    "id": "bdbc82a1"
   },
   "source": [
    "# 5. Training the model\n"
   ]
  },
  {
   "cell_type": "markdown",
   "id": "ca214eb3",
   "metadata": {
    "id": "ca214eb3"
   },
   "source": [
    "## 5.1 Configure the training\n",
    "\n",
    "Configure  the model for training, by using appropriate optimizers and regularizations\n",
    "\n"
   ]
  },
  {
   "cell_type": "code",
   "execution_count": null,
   "id": "a85e9754",
   "metadata": {
    "id": "a85e9754"
   },
   "outputs": [],
   "source": [
    "##---------Type the code below this line------------------##"
   ]
  },
  {
   "cell_type": "markdown",
   "id": "32fd60d8",
   "metadata": {},
   "source": [
    "## 5.2 Train the model"
   ]
  },
  {
   "cell_type": "code",
   "execution_count": null,
   "id": "8efaa227",
   "metadata": {},
   "outputs": [],
   "source": [
    "##---------Type the code below this line------------------##"
   ]
  },
  {
   "cell_type": "markdown",
   "id": "19bd0c56",
   "metadata": {},
   "source": [
    "Justify your choice of optimizers and regulizations used and the hyperparameters tuned\n",
    "\n",
    "Score: 4 Marks"
   ]
  },
  {
   "cell_type": "markdown",
   "id": "70064645",
   "metadata": {},
   "source": [
    "##---------Type the answers below this line------------------##"
   ]
  },
  {
   "cell_type": "markdown",
   "id": "06f1173c",
   "metadata": {
    "id": "06f1173c"
   },
   "source": [
    "# 6. Test the model\n",
    "\n",
    "Score: 2 Marks"
   ]
  },
  {
   "cell_type": "code",
   "execution_count": null,
   "id": "7042235d",
   "metadata": {
    "id": "7042235d"
   },
   "outputs": [],
   "source": [
    "##---------Type the code below this line------------------##"
   ]
  },
  {
   "cell_type": "markdown",
   "id": "eb57940c",
   "metadata": {
    "id": "eb57940c"
   },
   "source": [
    "## 7. Conclusion \n",
    "\n",
    "Plot the training and validation loss\n",
    "Report the testing accuracy and loss.\n",
    "\n",
    "Report values for preformance study metrics like accuracy, precision, recall, F1 Score.\n",
    "\n",
    "A proper comparision based on different metrics should be done and not just accuracy alone, only then the comparision becomes authentic. You may use Confusion matrix, classification report, MAE etc per the requirement of your application/problem.\n",
    "\n",
    "Score 2 Marks"
   ]
  },
  {
   "cell_type": "code",
   "execution_count": null,
   "id": "9bf06eb1",
   "metadata": {
    "id": "9bf06eb1"
   },
   "outputs": [],
   "source": [
    "##---------Type the code below this line------------------##"
   ]
  },
  {
   "cell_type": "markdown",
   "id": "79ed0137",
   "metadata": {
    "id": "79ed0137"
   },
   "source": [
    "## 8. Solution\n",
    "\n",
    "What is the solution that is proposed to solve the business problem discussed in Section 1. Also share your learnings while working through solving the problem in terms of challenges, observations, decisions made etc.\n",
    "\n",
    "Score 2 Marks"
   ]
  },
  {
   "cell_type": "raw",
   "id": "8bbd8099",
   "metadata": {
    "id": "3f2680b2"
   },
   "source": [
    "##---------Type the answers below this line------------------##"
   ]
  },
  {
   "cell_type": "markdown",
   "id": "RcDDQlfbZQ7E",
   "metadata": {
    "id": "RcDDQlfbZQ7E"
   },
   "source": [
    "##NOTE\n",
    "All Late Submissions will incur a penalty of -2 marks. So submit your assignments on time.\n",
    "\n",
    "Good Luck"
   ]
  }
 ],
 "metadata": {
  "colab": {
   "provenance": []
  },
  "kernelspec": {
   "display_name": "base",
   "language": "python",
   "name": "python3"
  },
  "language_info": {
   "codemirror_mode": {
    "name": "ipython",
    "version": 3
   },
   "file_extension": ".py",
   "mimetype": "text/x-python",
   "name": "python",
   "nbconvert_exporter": "python",
   "pygments_lexer": "ipython3",
   "version": "3.9.12 (main, Apr  4 2022, 05:22:27) [MSC v.1916 64 bit (AMD64)]"
  },
  "vscode": {
   "interpreter": {
    "hash": "49cb93f377a7abe7414b7b0f21fb3017538004a126cf690fb524202736b7fb92"
   }
  }
 },
 "nbformat": 4,
 "nbformat_minor": 5
}
